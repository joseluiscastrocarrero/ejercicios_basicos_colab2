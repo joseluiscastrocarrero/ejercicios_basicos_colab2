{
  "nbformat": 4,
  "nbformat_minor": 0,
  "metadata": {
    "colab": {
      "provenance": [],
      "authorship_tag": "ABX9TyMH4BKbr8reshcanFfU85rn",
      "include_colab_link": true
    },
    "kernelspec": {
      "name": "python3",
      "display_name": "Python 3"
    },
    "language_info": {
      "name": "python"
    }
  },
  "cells": [
    {
      "cell_type": "markdown",
      "metadata": {
        "id": "view-in-github",
        "colab_type": "text"
      },
      "source": [
        "<a href=\"https://colab.research.google.com/github/joseluiscastrocarrero/ejercicios_basicos_colab2/blob/main/Ejercicios_Basicos.ipynb\" target=\"_parent\"><img src=\"https://colab.research.google.com/assets/colab-badge.svg\" alt=\"Open In Colab\"/></a>"
      ]
    },
    {
      "cell_type": "markdown",
      "source": [
        "\n",
        "* Ejercicios basicos python\n",
        "\n",
        "1. suma de dos enteros\n",
        "2. potencia de un numero\n",
        "\n"
      ],
      "metadata": {
        "id": "YRd95LfGhUit"
      }
    },
    {
      "cell_type": "code",
      "source": [
        "# Potencia de un numero\n",
        "\n",
        "print(\"------------------------------\")\n",
        "print(\"-----POTENCIA DE UN NUMERO----\")\n",
        "print(\"------------------------------\")\n",
        "\n",
        "# input \n",
        "x = int(input(\"Digite el valor de x: \"))\n",
        "y = int(input(\"DIgite el valor de y: \"))\n",
        "\n",
        "# processing\n",
        "z = x**y\n",
        "\n",
        "# output\n",
        "print(x, \" elevado a la \", y,\" es \", z)"
      ],
      "metadata": {
        "id": "nfYAo9s-rEBi"
      },
      "execution_count": null,
      "outputs": []
    },
    {
      "cell_type": "code",
      "source": [
        "# Suma de dos numeros enteros \n",
        "\n",
        "print(\"------------------------------\")\n",
        "print(\"-----SUMA DE DOS ENTEROS------\")\n",
        "print(\"------------------------------\")\n",
        "\n",
        "# input\n",
        "x = int(input(\"DIgite el valor de x; \"))\n",
        "y = int(input(\"Digite el valor de y: \"))\n",
        "\n",
        "# processing\n",
        "z = x + y\n",
        "\n",
        "# output\n",
        "print(\"La suma de \",x,\" + \",y,\" es \", z)"
      ],
      "metadata": {
        "id": "IS1FwQzLl3E7"
      },
      "execution_count": null,
      "outputs": []
    }
  ]
}